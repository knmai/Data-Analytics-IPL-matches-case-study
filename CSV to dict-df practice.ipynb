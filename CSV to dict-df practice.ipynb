{
 "cells": [
  {
   "cell_type": "code",
   "execution_count": 1,
   "metadata": {},
   "outputs": [],
   "source": [
    "import pandas as pd\n",
    "import numpy as np\n",
    "import csv"
   ]
  },
  {
   "cell_type": "code",
   "execution_count": 18,
   "metadata": {},
   "outputs": [
    {
     "name": "stdout",
     "output_type": "stream",
     "text": [
      "                      All teams  Times played  Times won  Toss wins  \\\n",
      "0                Mumbai Indians           187        107         98   \n",
      "1         Kolkata Knight Riders           182         91         92   \n",
      "2                Delhi Capitals           178         75         90   \n",
      "3           Chennai Super Kings           165         99         89   \n",
      "4   Royal Challengers Bangalore           183         83         82   \n",
      "5               Kings XI Punjab           176         80         81   \n",
      "6              Rajasthan Royals           150         72         80   \n",
      "7           Sunrisers Hyderabad           109         57         46   \n",
      "8               Deccan Chargers            76         29         43   \n",
      "9                 Pune Warriors            46         12         20   \n",
      "10                Gujarat Lions            30         13         15   \n",
      "11       Rising Pune Supergiant            30         15         13   \n",
      "12         Kochi Tuskers Kerala            14          6          8   \n",
      "\n",
      "    Times won after toss win  Times lost after toss win  \\\n",
      "0                         54                         44   \n",
      "1                         53                         39   \n",
      "2                         41                         49   \n",
      "3                         57                         32   \n",
      "4                         40                         42   \n",
      "5                         34                         47   \n",
      "6                         41                         39   \n",
      "7                         22                         24   \n",
      "8                         19                         24   \n",
      "9                          3                         17   \n",
      "10                        10                          5   \n",
      "11                         5                          8   \n",
      "12                         4                          4   \n",
      "\n",
      "   % won from times played Toss wins from times played  \n",
      "0                   57.20%                      52.40%  \n",
      "1                   50.00%                      50.50%  \n",
      "2                   42.10%                      50.60%  \n",
      "3                   60.00%                      53.90%  \n",
      "4                   45.40%                      44.80%  \n",
      "5                   45.50%                      46.00%  \n",
      "6                   48.00%                      53.30%  \n",
      "7                   52.30%                      42.20%  \n",
      "8                   38.20%                      56.60%  \n",
      "9                   26.10%                      43.50%  \n",
      "10                  43.30%                      50.00%  \n",
      "11                  50.00%                      43.30%  \n",
      "12                  42.90%                      57.10%  \n"
     ]
    }
   ],
   "source": [
    "#reading csv file and turning into dataframe\n",
    "coin_effects= pd.read_csv('Coin toss effects.csv')\n",
    "#coin_effects = pd.DataFrame(coin_effects_read)\n",
    "\n",
    "print(coin_effects)\n"
   ]
  },
  {
   "cell_type": "code",
   "execution_count": 19,
   "metadata": {},
   "outputs": [
    {
     "name": "stdout",
     "output_type": "stream",
     "text": [
      "             All teams  Times played  Times won  Toss wins  \\\n",
      "2       Delhi Capitals           178         75         90   \n",
      "3  Chennai Super Kings           165         99         89   \n",
      "\n",
      "   Times won after toss win  Times lost after toss win  \\\n",
      "2                        41                         49   \n",
      "3                        57                         32   \n",
      "\n",
      "  % won from times played Toss wins from times played  \n",
      "2                  42.10%                      50.60%  \n",
      "3                  60.00%                      53.90%  \n"
     ]
    }
   ],
   "source": [
    "#avg_tmpl = coin_effects\n",
    "\n",
    "print(coin_effects.iloc[2:4])"
   ]
  }
 ],
 "metadata": {
  "interpreter": {
   "hash": "f2e21e633359b07e7b53bb56d1ee97b5d5e59aab4e42417379dccd9b4b8c473d"
  },
  "kernelspec": {
   "display_name": "Python 3.10.2 64-bit",
   "language": "python",
   "name": "python3"
  },
  "language_info": {
   "codemirror_mode": {
    "name": "ipython",
    "version": 3
   },
   "file_extension": ".py",
   "mimetype": "text/x-python",
   "name": "python",
   "nbconvert_exporter": "python",
   "pygments_lexer": "ipython3",
   "version": "3.10.2"
  },
  "orig_nbformat": 4
 },
 "nbformat": 4,
 "nbformat_minor": 2
}
